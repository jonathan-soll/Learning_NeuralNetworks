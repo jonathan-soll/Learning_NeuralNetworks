{
 "cells": [
  {
   "cell_type": "markdown",
   "metadata": {},
   "source": [
    "# Picture of a neural network\n",
    "\n",
    "![alt text](NeuralNetwork.jpeg \"Example Neural Network\")\n",
    "\n",
    "### Each indivual node performs a mathematical calculation and passes its result to all of the nodes in the following layer"
   ]
  },
  {
   "cell_type": "markdown",
   "metadata": {},
   "source": [
    "# Keras - API that sits on top of Tensorflow or Theanos for building neural network models\n",
    "### Tensorlow is currently not compatible with Python 3.6 so you need to code in a Python 3.5 environment, this link has the instructions for setting up the separate anaconda virtual environment\n",
    "## https://www.tensorflow.org/install/install_windows#installing_with_anaconda\n",
    "### Created a new python 3.5 environment named \"tensorflow\n",
    "## After following the instructions at the above link (downloaded the CPU-only version), you need to install Keras\n",
    "``` conda install -c conda-forge keras```\n",
    "\n",
    "## Also, you can install the Google API Client library\n",
    "``` conda install -c conda-forge google-api-python-client```"
   ]
  },
  {
   "cell_type": "markdown",
   "metadata": {},
   "source": [
    "# Using Sequential model API in Keras\n",
    "## 1) Create an empty model, then add layers to it one after another\n",
    "## 2) Add layers to it one after another*\n",
    "### - Dense Layer = a layer of nodes where each node is connected to every node in the previous layer\n",
    "\n",
    "```\n",
    "model.add(Dense(32, input_dim = 15)) 32-node dense layer, also the first hidden layer than expects 9 inputs from the data\n",
    "model.add(Dense(50)) 50-node dense layer\n",
    "```\n",
    "\n",
    "### - Convolutional Layer = typically used to process images or spatial data\n",
    "\n",
    "```\n",
    "keras.layers.convolutional.Conv2D()\n",
    "```\n",
    "\n",
    "### - Recurrent Layer = special layers that have memory built into each neuron, typically used to process sequential data like words in a sentence where the previous data points are important for the understanding of the next data point\n",
    "\n",
    "```\n",
    "keras.layers.recurrent.LSTM()\n",
    "```\n",
    "\n",
    "#### *The first hidden layer needs to know how many inputs to expect using the 'input_dim' argument\n",
    "## 3) Compite the model, needs to know the optimizer and the loss function\n",
    "### - Optimizer - algorithm used to train the network\n",
    "### - Loss Function - the function used by the training process to understand how right or wrong the predictions are\n",
    "\n",
    "```model.compile(optimizer = 'adam', loss = 'mse')```\n",
    "\n"
   ]
  },
  {
   "cell_type": "markdown",
   "metadata": {},
   "source": [
    "## Example initialization\n",
    "\n",
    "```\n",
    "model = Sequential()\n",
    "model.add(Dense(50, input_dim = 9, activation = 'relu'))\n",
    "model.add(Dense(100, activation = 'relu'))\n",
    "model.add(Dense(50, activation = 'relu'))\n",
    "model.add(Dense(1, activation = 'linear'))\n",
    "model.compile(loss = 'mean_squared_error', optimizer = 'adam')\n",
    "```"
   ]
  },
  {
   "cell_type": "markdown",
   "metadata": {},
   "source": [
    "### Customizing layers\n",
    "#### Activation function:  the function computed on inputs as they pass through the nodes of a hidden layer \n",
    "The 'activation' argument lets us specify which activation function the nodes in the layer will use <br><br>\n",
    "model.add(Dense(number_of_neurons, activation = 'relu'))\n",
    "#### Initializer function for node weights (look more into this)\n",
    "#### Regularization function for node weights (look more into this)"
   ]
  },
  {
   "cell_type": "markdown",
   "metadata": {},
   "source": [
    "## Scaling data - Neural networks work best when the data is on the same small scale\n",
    "### Example using MinMaxScaler from Sci-kit Learn to transform data to be between 0 and 1\n",
    "\n",
    "```\n",
    "from sklearn.preprocessing import MinMaxScaler\n",
    "\n",
    "scaler = MinMaxScaler(feature_range = (0, 1))\n",
    "train_data_scaled = scaler.fit_transform(train_data)\n",
    "test_data_scaled = scaler.transform(test_data)\n",
    "\n",
    "print(\"Note: total_earnings values were scaled by multiplying by {:.10f} and adding {:.6f}\".format(scaler.scale_[8], scaler.min_[8]))\n",
    "```"
   ]
  },
  {
   "cell_type": "markdown",
   "metadata": {},
   "source": [
    "# Training the model\n",
    "## Use the 'fit' function to train the model\n",
    "### Arguments are...\n",
    "1) <b>Training data</b> <br>\n",
    "2) <b>Testing data</b> <br>\n",
    "3) <b>Epochs</b> - the number of times the model is trained on every single training example. Tune this by selecting the max number of epochs before the model stops getting more accurate <br>\n",
    "4) <b>Shuffle</b>, usually set to true <br>\n",
    "5) <b>Verbose</b>, tells the model what to print out during training to tell us what is going on\n",
    "\n",
    "``` \n",
    "model.fit(\n",
    "    X,\n",
    "    Y,\n",
    "    epochs = 50,\n",
    "    shuffle = True,\n",
    "    verbose = 2\n",
    ")\n",
    " ```"
   ]
  },
  {
   "cell_type": "markdown",
   "metadata": {},
   "source": [
    "# Evaluating the model\n",
    "## Use the 'evaluate' function\n",
    "### Result is the error as measured by the cost function we chose\n",
    "\n",
    "```\n",
    "test_error_rate = model.evaluate(X_test, Y_test, verbose = 0)\n",
    "print(\"The mean squared error (MSE) for the test data set is: {}\".format(test_error_rate))\n",
    "```\n",
    "\n",
    "## Make predictions on new data using the 'predict' function\n",
    "\n",
    "```model.predict(new_example)```"
   ]
  },
  {
   "cell_type": "markdown",
   "metadata": {},
   "source": [
    "# Image Recognition with ResNet50\n",
    "## 1. Import the resnet50 package\n",
    "\n",
    "``` from keras.applications import resnet50 ```\n",
    "\n",
    "## 2. Load the pre-trained ResNet50 model\n",
    "\n",
    "``` model = reset50.ResNet50() ```\n",
    "\n",
    "## 3. Load an image to predict on, convert the image to an array and add fourth dimension because the algorithm expects a list, and scale it to the range that ResNet50 uses\n",
    "\n",
    "```\n",
    "img = image.load_img(\"bay.jpg\", target_size=(224, 224))\n",
    "x = image.img_to_array(img)\n",
    "x = np.expand_dims(x, axis=0)\n",
    "x = resnet50.preprocess_input(x)\n",
    "```\n",
    "\n",
    "## 4. Make the prediction, and look up the top 9 classes\n",
    "\n",
    "``` \n",
    "predicted_classes = resnet50.decode_predictions(predictions, top=9)\n",
    "\n",
    "print(\"This is an image of:\")\n",
    "\n",
    "for imagenet_id, name, likelihood in predicted_classes[0]:\n",
    "    print(\" - {}: {:2f} likelihood\".format(name, likelihood))\n",
    "```"
   ]
  },
  {
   "cell_type": "code",
   "execution_count": null,
   "metadata": {},
   "outputs": [],
   "source": []
  }
 ],
 "metadata": {
  "kernelspec": {
   "display_name": "Python 3",
   "language": "python",
   "name": "python3"
  },
  "language_info": {
   "codemirror_mode": {
    "name": "ipython",
    "version": 3
   },
   "file_extension": ".py",
   "mimetype": "text/x-python",
   "name": "python",
   "nbconvert_exporter": "python",
   "pygments_lexer": "ipython3",
   "version": "3.6.3"
  }
 },
 "nbformat": 4,
 "nbformat_minor": 2
}
